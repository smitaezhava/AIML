{
 "cells": [
  {
   "cell_type": "code",
   "execution_count": 1,
   "metadata": {},
   "outputs": [],
   "source": [
    "%matplotlib inline\n",
    "import numpy as np\n",
    "import pandas as pd\n",
    "import matplotlib.pylab as plt\n",
    "from sklearn.cluster import KMeans\n",
    "from scipy.stats import zscore\n",
    "import seaborn as sns"
   ]
  },
  {
   "cell_type": "code",
   "execution_count": 2,
   "metadata": {},
   "outputs": [],
   "source": [
    "stud=pd.read_csv('student.csv')"
   ]
  },
  {
   "cell_type": "code",
   "execution_count": 3,
   "metadata": {},
   "outputs": [
    {
     "name": "stdout",
     "output_type": "stream",
     "text": [
      "<class 'pandas.core.frame.DataFrame'>\n",
      "RangeIndex: 10 entries, 0 to 9\n",
      "Data columns (total 3 columns):\n",
      " #   Column   Non-Null Count  Dtype\n",
      "---  ------   --------------  -----\n",
      " 0   rollno   10 non-null     int64\n",
      " 1   maths    10 non-null     int64\n",
      " 2   science  10 non-null     int64\n",
      "dtypes: int64(3)\n",
      "memory usage: 368.0 bytes\n"
     ]
    }
   ],
   "source": [
    "stud.info()"
   ]
  },
  {
   "cell_type": "code",
   "execution_count": 4,
   "metadata": {},
   "outputs": [
    {
     "data": {
      "text/html": [
       "<div>\n",
       "<style scoped>\n",
       "    .dataframe tbody tr th:only-of-type {\n",
       "        vertical-align: middle;\n",
       "    }\n",
       "\n",
       "    .dataframe tbody tr th {\n",
       "        vertical-align: top;\n",
       "    }\n",
       "\n",
       "    .dataframe thead th {\n",
       "        text-align: right;\n",
       "    }\n",
       "</style>\n",
       "<table border=\"1\" class=\"dataframe\">\n",
       "  <thead>\n",
       "    <tr style=\"text-align: right;\">\n",
       "      <th></th>\n",
       "      <th>rollno</th>\n",
       "      <th>maths</th>\n",
       "      <th>science</th>\n",
       "    </tr>\n",
       "  </thead>\n",
       "  <tbody>\n",
       "    <tr>\n",
       "      <th>0</th>\n",
       "      <td>1</td>\n",
       "      <td>80</td>\n",
       "      <td>75</td>\n",
       "    </tr>\n",
       "    <tr>\n",
       "      <th>1</th>\n",
       "      <td>2</td>\n",
       "      <td>75</td>\n",
       "      <td>85</td>\n",
       "    </tr>\n",
       "    <tr>\n",
       "      <th>2</th>\n",
       "      <td>3</td>\n",
       "      <td>42</td>\n",
       "      <td>43</td>\n",
       "    </tr>\n",
       "    <tr>\n",
       "      <th>3</th>\n",
       "      <td>4</td>\n",
       "      <td>95</td>\n",
       "      <td>80</td>\n",
       "    </tr>\n",
       "    <tr>\n",
       "      <th>4</th>\n",
       "      <td>5</td>\n",
       "      <td>39</td>\n",
       "      <td>34</td>\n",
       "    </tr>\n",
       "  </tbody>\n",
       "</table>\n",
       "</div>"
      ],
      "text/plain": [
       "   rollno  maths  science\n",
       "0       1     80       75\n",
       "1       2     75       85\n",
       "2       3     42       43\n",
       "3       4     95       80\n",
       "4       5     39       34"
      ]
     },
     "execution_count": 4,
     "metadata": {},
     "output_type": "execute_result"
    }
   ],
   "source": [
    "stud.head()"
   ]
  },
  {
   "cell_type": "code",
   "execution_count": 5,
   "metadata": {},
   "outputs": [],
   "source": [
    "stud_no_roll=stud.drop('rollno', axis=1)"
   ]
  },
  {
   "cell_type": "code",
   "execution_count": 7,
   "metadata": {},
   "outputs": [
    {
     "data": {
      "text/html": [
       "<div>\n",
       "<style scoped>\n",
       "    .dataframe tbody tr th:only-of-type {\n",
       "        vertical-align: middle;\n",
       "    }\n",
       "\n",
       "    .dataframe tbody tr th {\n",
       "        vertical-align: top;\n",
       "    }\n",
       "\n",
       "    .dataframe thead th {\n",
       "        text-align: right;\n",
       "    }\n",
       "</style>\n",
       "<table border=\"1\" class=\"dataframe\">\n",
       "  <thead>\n",
       "    <tr style=\"text-align: right;\">\n",
       "      <th></th>\n",
       "      <th>maths</th>\n",
       "      <th>science</th>\n",
       "    </tr>\n",
       "  </thead>\n",
       "  <tbody>\n",
       "    <tr>\n",
       "      <th>0</th>\n",
       "      <td>80</td>\n",
       "      <td>75</td>\n",
       "    </tr>\n",
       "    <tr>\n",
       "      <th>1</th>\n",
       "      <td>75</td>\n",
       "      <td>85</td>\n",
       "    </tr>\n",
       "    <tr>\n",
       "      <th>2</th>\n",
       "      <td>42</td>\n",
       "      <td>43</td>\n",
       "    </tr>\n",
       "    <tr>\n",
       "      <th>3</th>\n",
       "      <td>95</td>\n",
       "      <td>80</td>\n",
       "    </tr>\n",
       "    <tr>\n",
       "      <th>4</th>\n",
       "      <td>39</td>\n",
       "      <td>34</td>\n",
       "    </tr>\n",
       "  </tbody>\n",
       "</table>\n",
       "</div>"
      ],
      "text/plain": [
       "   maths  science\n",
       "0     80       75\n",
       "1     75       85\n",
       "2     42       43\n",
       "3     95       80\n",
       "4     39       34"
      ]
     },
     "execution_count": 7,
     "metadata": {},
     "output_type": "execute_result"
    }
   ],
   "source": [
    "stud_no_roll.head()"
   ]
  },
  {
   "cell_type": "code",
   "execution_count": 8,
   "metadata": {},
   "outputs": [
    {
     "data": {
      "text/plain": [
       "<seaborn.axisgrid.PairGrid at 0x2760f149040>"
      ]
     },
     "execution_count": 8,
     "metadata": {},
     "output_type": "execute_result"
    },
    {
     "data": {
      "image/png": "[encoded data removed]",
      "text/plain": [
       "<Figure size 360x360 with 6 Axes>"
      ]
     },
     "metadata": {
      "needs_background": "light"
     },
     "output_type": "display_data"
    }
   ],
   "source": [
    "sns.pairplot(stud_no_roll, diag_kind=\"kde\")"
   ]
  },
  {
   "cell_type": "code",
   "execution_count": 10,
   "metadata": {},
   "outputs": [
    {
     "name": "stdout",
     "output_type": "stream",
     "text": [
      "[0 0 0 0 0 0 0 0 0 0]\n",
      "[0 0 1 0 1 1 1 0 1 0]\n",
      "[2 2 0 1 0 0 0 1 0 1]\n",
      "[3 2 1 0 1 1 1 0 1 0]\n"
     ]
    }
   ],
   "source": [
    "from scipy.spatial.distance import cdist\n",
    "clusters=range(1,5)\n",
    "meanDistortions=[]\n",
    "\n",
    "for k in clusters:\n",
    "    model=KMeans(n_clusters=k)\n",
    "    model.fit(stud_no_roll)\n",
    "    prediction=model.predict(stud_no_roll)\n",
    "    print(prediction)\n",
    "    meanDistortions.append(model.inertia_)#(sum(np.min(cdist(tech_sup,model.cluster_centers_))))"
   ]
  },
  {
   "cell_type": "code",
   "execution_count": 11,
   "metadata": {},
   "outputs": [
    {
     "data": {
      "text/plain": [
       "array([3, 2, 1, 0, 1, 1, 1, 0, 1, 0])"
      ]
     },
     "execution_count": 11,
     "metadata": {},
     "output_type": "execute_result"
    }
   ],
   "source": [
    "model.labels_"
   ]
  },
  {
   "cell_type": "code",
   "execution_count": 12,
   "metadata": {},
   "outputs": [
    {
     "data": {
      "text/plain": [
       "array([[94.33333333, 83.33333333],\n",
       "       [42.        , 38.2       ],\n",
       "       [75.        , 85.        ],\n",
       "       [80.        , 75.        ]])"
      ]
     },
     "execution_count": 12,
     "metadata": {},
     "output_type": "execute_result"
    }
   ],
   "source": [
    "model.cluster_centers_"
   ]
  },
  {
   "cell_type": "code",
   "execution_count": 64,
   "metadata": {},
   "outputs": [
    {
     "data": {
      "text/plain": [
       "array([ 1.66437476, -0.98734432, -0.95948107,  0.88066263, -0.56146347,\n",
       "        0.48025778, -0.48025778])"
      ]
     },
     "execution_count": 64,
     "metadata": {},
     "output_type": "execute_result"
    }
   ],
   "source": [
    "model.cluster_centers_[1]"
   ]
  },
  {
   "cell_type": "code",
   "execution_count": 77,
   "metadata": {},
   "outputs": [],
   "source": [
    "df_centre=pd.DataFrame(model.cluster_centers_)"
   ]
  },
  {
   "cell_type": "code",
   "execution_count": 76,
   "metadata": {},
   "outputs": [
    {
     "data": {
      "text/plain": [
       "<seaborn.axisgrid.PairGrid at 0x1e97c7130a0>"
      ]
     },
     "execution_count": 76,
     "metadata": {},
     "output_type": "execute_result"
    },
    {
     "data": {
      "image/png": "[encoded data removed]",
      "text/plain": [
       "<Figure size 180x180 with 2 Axes>"
      ]
     },
     "metadata": {
      "needs_background": "light"
     },
     "output_type": "display_data"
    }
   ],
   "source": [
    "sns.pairplot(df_centre)"
   ]
  },
  {
   "cell_type": "code",
   "execution_count": 13,
   "metadata": {},
   "outputs": [
    {
     "data": {
      "text/plain": [
       "Text(0.5, 1.0, 'K with Elbow')"
      ]
     },
     "execution_count": 13,
     "metadata": {},
     "output_type": "execute_result"
    },
    {
     "data": {
      "image/png": "[encoded data removed]",
      "text/plain": [
       "<Figure size 432x288 with 1 Axes>"
      ]
     },
     "metadata": {
      "needs_background": "light"
     },
     "output_type": "display_data"
    }
   ],
   "source": [
    "plt.plot(clusters, meanDistortions, 'bx-')\n",
    "plt.xlabel('k')\n",
    "plt.ylabel('Average Distortion')\n",
    "plt.title('K with Elbow')"
   ]
  },
  {
   "cell_type": "code",
   "execution_count": 79,
   "metadata": {},
   "outputs": [
    {
     "name": "stdout",
     "output_type": "stream",
     "text": [
      "Note: you may need to restart the kernel to use updated packages.Collecting yellowbrick\n",
      "\n",
      "  Downloading yellowbrick-1.3.post1-py3-none-any.whl (271 kB)\n",
      "Requirement already satisfied: scipy>=1.0.0 in c:\\users\\smita.ezhava\\anaconda3\\lib\\site-packages (from yellowbrick) (1.5.2)\n",
      "Requirement already satisfied: numpy<1.20,>=1.16.0 in c:\\users\\smita.ezhava\\anaconda3\\lib\\site-packages (from yellowbrick) (1.19.2)\n",
      "Requirement already satisfied: cycler>=0.10.0 in c:\\users\\smita.ezhava\\anaconda3\\lib\\site-packages (from yellowbrick) (0.10.0)\n",
      "Requirement already satisfied: matplotlib!=3.0.0,>=2.0.2 in c:\\users\\smita.ezhava\\anaconda3\\lib\\site-packages (from yellowbrick) (3.3.2)\n",
      "Requirement already satisfied: scikit-learn>=0.20 in c:\\users\\smita.ezhava\\anaconda3\\lib\\site-packages (from yellowbrick) (0.23.2)\n",
      "Requirement already satisfied: six in c:\\users\\smita.ezhava\\anaconda3\\lib\\site-packages (from cycler>=0.10.0->yellowbrick) (1.15.0)\n",
      "Requirement already satisfied: certifi>=2020.06.20 in c:\\users\\smita.ezhava\\anaconda3\\lib\\site-packages (from matplotlib!=3.0.0,>=2.0.2->yellowbrick) (2020.6.20)\n",
      "Requirement already satisfied: kiwisolver>=1.0.1 in c:\\users\\smita.ezhava\\anaconda3\\lib\\site-packages (from matplotlib!=3.0.0,>=2.0.2->yellowbrick) (1.3.0)\n",
      "Requirement already satisfied: python-dateutil>=2.1 in c:\\users\\smita.ezhava\\anaconda3\\lib\\site-packages (from matplotlib!=3.0.0,>=2.0.2->yellowbrick) (2.8.1)\n",
      "Requirement already satisfied: pillow>=6.2.0 in c:\\users\\smita.ezhava\\anaconda3\\lib\\site-packages (from matplotlib!=3.0.0,>=2.0.2->yellowbrick) (8.0.1)\n",
      "Requirement already satisfied: pyparsing!=2.0.4,!=2.1.2,!=2.1.6,>=2.0.3 in c:\\users\\smita.ezhava\\anaconda3\\lib\\site-packages (from matplotlib!=3.0.0,>=2.0.2->yellowbrick) (2.4.7)\n",
      "Requirement already satisfied: joblib>=0.11 in c:\\users\\smita.ezhava\\anaconda3\\lib\\site-packages (from scikit-learn>=0.20->yellowbrick) (0.17.0)\n",
      "Requirement already satisfied: threadpoolctl>=2.0.0 in c:\\users\\smita.ezhava\\anaconda3\\lib\\site-packages (from scikit-learn>=0.20->yellowbrick) (2.1.0)\n",
      "Installing collected packages: yellowbrick\n",
      "Successfully installed yellowbrick-1.3.post1\n"
     ]
    }
   ],
   "source": [
    "pip install yellowbrick"
   ]
  },
  {
   "cell_type": "code",
   "execution_count": 22,
   "metadata": {},
   "outputs": [
    {
     "name": "stderr",
     "output_type": "stream",
     "text": [
      "C:\\Users\\smita.ezhava\\anaconda3\\lib\\site-packages\\yellowbrick\\utils\\kneed.py:155: YellowbrickWarning: No 'knee' or 'elbow point' detected This could be due to bad clustering, no actual clusters being formed etc.\n",
      "  warnings.warn(warning_message, YellowbrickWarning)\n",
      "C:\\Users\\smita.ezhava\\anaconda3\\lib\\site-packages\\yellowbrick\\cluster\\elbow.py:343: YellowbrickWarning: No 'knee' or 'elbow' point detected, pass `locate_elbow=False` to remove the warning\n",
      "  warnings.warn(warning_message, YellowbrickWarning)\n"
     ]
    },
    {
     "data": {
      "text/plain": [
       "<AxesSubplot:title={'center':'Distortion Score Elbow for KMeans Clustering'}, xlabel='k', ylabel='distortion score'>"
      ]
     },
     "execution_count": 22,
     "metadata": {},
     "output_type": "execute_result"
    },
    {
     "data": {
      "image/png": "[encoded data removed]",
      "text/plain": [
       "<Figure size 576x396 with 2 Axes>"
      ]
     },
     "metadata": {},
     "output_type": "display_data"
    }
   ],
   "source": [
    "from yellowbrick.cluster import KElbowVisualizer\n",
    "visual=KElbowVisualizer(KMeans(),k=(1,4))\n",
    "visual.fit(stud_no_roll)\n",
    "visual.show(outpath='elbowplot2.png') "
   ]
  },
  {
   "cell_type": "code",
   "execution_count": 81,
   "metadata": {},
   "outputs": [
    {
     "name": "stdout",
     "output_type": "stream",
     "text": [
      "[1 2 1 2 1 0 0 1 4 0 0 3 1 0 4 4 3 1 0 4 3 3 3]\n"
     ]
    }
   ],
   "source": [
    "model1=KMeans(n_clusters=5)\n",
    "model1.fit(tech_sup)\n",
    "prediction1=model1.predict(tech_sup)\n",
    "print(prediction1)"
   ]
  },
  {
   "cell_type": "code",
   "execution_count": 83,
   "metadata": {},
   "outputs": [
    {
     "data": {
      "text/plain": [
       "array([1, 2, 1, 2, 1, 0, 0, 1, 4, 0, 0, 3, 1, 0, 4, 4, 3, 1, 0, 4, 3, 3,\n",
       "       3])"
      ]
     },
     "execution_count": 83,
     "metadata": {},
     "output_type": "execute_result"
    }
   ],
   "source": [
    "model1.labels_"
   ]
  },
  {
   "cell_type": "code",
   "execution_count": 84,
   "metadata": {},
   "outputs": [],
   "source": [
    "tech_sup['group']=model1.labels_"
   ]
  },
  {
   "cell_type": "code",
   "execution_count": 85,
   "metadata": {},
   "outputs": [
    {
     "data": {
      "text/html": [
       "<div>\n",
       "<style scoped>\n",
       "    .dataframe tbody tr th:only-of-type {\n",
       "        vertical-align: middle;\n",
       "    }\n",
       "\n",
       "    .dataframe tbody tr th {\n",
       "        vertical-align: top;\n",
       "    }\n",
       "\n",
       "    .dataframe thead th {\n",
       "        text-align: right;\n",
       "    }\n",
       "</style>\n",
       "<table border=\"1\" class=\"dataframe\">\n",
       "  <thead>\n",
       "    <tr style=\"text-align: right;\">\n",
       "      <th></th>\n",
       "      <th>no_of_cases</th>\n",
       "      <th>Avg_pending_calls</th>\n",
       "      <th>Avg_resol_time</th>\n",
       "      <th>recurrence_freq</th>\n",
       "      <th>Replace_percent</th>\n",
       "      <th>In_warranty_percent</th>\n",
       "      <th>Post_warranty_percent</th>\n",
       "      <th>group</th>\n",
       "    </tr>\n",
       "  </thead>\n",
       "  <tbody>\n",
       "    <tr>\n",
       "      <th>0</th>\n",
       "      <td>0.179429</td>\n",
       "      <td>-0.701207</td>\n",
       "      <td>-0.538351</td>\n",
       "      <td>-0.843188</td>\n",
       "      <td>-0.561463</td>\n",
       "      <td>0.138067</td>\n",
       "      <td>-0.138067</td>\n",
       "      <td>1</td>\n",
       "    </tr>\n",
       "    <tr>\n",
       "      <th>1</th>\n",
       "      <td>-0.862176</td>\n",
       "      <td>0.027143</td>\n",
       "      <td>1.510857</td>\n",
       "      <td>-1.101765</td>\n",
       "      <td>2.245854</td>\n",
       "      <td>-1.778204</td>\n",
       "      <td>1.778204</td>\n",
       "      <td>2</td>\n",
       "    </tr>\n",
       "    <tr>\n",
       "      <th>2</th>\n",
       "      <td>-0.908323</td>\n",
       "      <td>-1.013357</td>\n",
       "      <td>-0.486253</td>\n",
       "      <td>-1.015573</td>\n",
       "      <td>0.561463</td>\n",
       "      <td>0.548696</td>\n",
       "      <td>-0.548696</td>\n",
       "      <td>1</td>\n",
       "    </tr>\n",
       "    <tr>\n",
       "      <th>3</th>\n",
       "      <td>-0.921508</td>\n",
       "      <td>0.027143</td>\n",
       "      <td>-0.955140</td>\n",
       "      <td>-1.101765</td>\n",
       "      <td>3.368781</td>\n",
       "      <td>-1.778204</td>\n",
       "      <td>1.778204</td>\n",
       "      <td>2</td>\n",
       "    </tr>\n",
       "    <tr>\n",
       "      <th>4</th>\n",
       "      <td>-0.644625</td>\n",
       "      <td>0.339294</td>\n",
       "      <td>-0.156296</td>\n",
       "      <td>0.104930</td>\n",
       "      <td>-0.561463</td>\n",
       "      <td>0.795074</td>\n",
       "      <td>-0.795074</td>\n",
       "      <td>1</td>\n",
       "    </tr>\n",
       "  </tbody>\n",
       "</table>\n",
       "</div>"
      ],
      "text/plain": [
       "   no_of_cases  Avg_pending_calls  Avg_resol_time  recurrence_freq  \\\n",
       "0     0.179429          -0.701207       -0.538351        -0.843188   \n",
       "1    -0.862176           0.027143        1.510857        -1.101765   \n",
       "2    -0.908323          -1.013357       -0.486253        -1.015573   \n",
       "3    -0.921508           0.027143       -0.955140        -1.101765   \n",
       "4    -0.644625           0.339294       -0.156296         0.104930   \n",
       "\n",
       "   Replace_percent  In_warranty_percent  Post_warranty_percent  group  \n",
       "0        -0.561463             0.138067              -0.138067      1  \n",
       "1         2.245854            -1.778204               1.778204      2  \n",
       "2         0.561463             0.548696              -0.548696      1  \n",
       "3         3.368781            -1.778204               1.778204      2  \n",
       "4        -0.561463             0.795074              -0.795074      1  "
      ]
     },
     "execution_count": 85,
     "metadata": {},
     "output_type": "execute_result"
    }
   ],
   "source": [
    "tech_sup.head()"
   ]
  },
  {
   "cell_type": "code",
   "execution_count": 86,
   "metadata": {},
   "outputs": [],
   "source": [
    "tech_sup['problem_type']=tech['PROBLEM_TYPE']"
   ]
  },
  {
   "cell_type": "code",
   "execution_count": 88,
   "metadata": {},
   "outputs": [
    {
     "data": {
      "text/html": [
       "<div>\n",
       "<style scoped>\n",
       "    .dataframe tbody tr th:only-of-type {\n",
       "        vertical-align: middle;\n",
       "    }\n",
       "\n",
       "    .dataframe tbody tr th {\n",
       "        vertical-align: top;\n",
       "    }\n",
       "\n",
       "    .dataframe thead th {\n",
       "        text-align: right;\n",
       "    }\n",
       "</style>\n",
       "<table border=\"1\" class=\"dataframe\">\n",
       "  <thead>\n",
       "    <tr style=\"text-align: right;\">\n",
       "      <th></th>\n",
       "      <th>no_of_cases</th>\n",
       "      <th>Avg_pending_calls</th>\n",
       "      <th>Avg_resol_time</th>\n",
       "      <th>recurrence_freq</th>\n",
       "      <th>Replace_percent</th>\n",
       "      <th>In_warranty_percent</th>\n",
       "      <th>Post_warranty_percent</th>\n",
       "      <th>group</th>\n",
       "      <th>problem_type</th>\n",
       "    </tr>\n",
       "  </thead>\n",
       "  <tbody>\n",
       "    <tr>\n",
       "      <th>0</th>\n",
       "      <td>0.179429</td>\n",
       "      <td>-0.701207</td>\n",
       "      <td>-0.538351</td>\n",
       "      <td>-0.843188</td>\n",
       "      <td>-0.561463</td>\n",
       "      <td>0.138067</td>\n",
       "      <td>-0.138067</td>\n",
       "      <td>1</td>\n",
       "      <td>Temperature control not working</td>\n",
       "    </tr>\n",
       "    <tr>\n",
       "      <th>1</th>\n",
       "      <td>-0.862176</td>\n",
       "      <td>0.027143</td>\n",
       "      <td>1.510857</td>\n",
       "      <td>-1.101765</td>\n",
       "      <td>2.245854</td>\n",
       "      <td>-1.778204</td>\n",
       "      <td>1.778204</td>\n",
       "      <td>2</td>\n",
       "      <td>power chord does not tightly fit</td>\n",
       "    </tr>\n",
       "    <tr>\n",
       "      <th>2</th>\n",
       "      <td>-0.908323</td>\n",
       "      <td>-1.013357</td>\n",
       "      <td>-0.486253</td>\n",
       "      <td>-1.015573</td>\n",
       "      <td>0.561463</td>\n",
       "      <td>0.548696</td>\n",
       "      <td>-0.548696</td>\n",
       "      <td>1</td>\n",
       "      <td>Fan swing not working</td>\n",
       "    </tr>\n",
       "    <tr>\n",
       "      <th>3</th>\n",
       "      <td>-0.921508</td>\n",
       "      <td>0.027143</td>\n",
       "      <td>-0.955140</td>\n",
       "      <td>-1.101765</td>\n",
       "      <td>3.368781</td>\n",
       "      <td>-1.778204</td>\n",
       "      <td>1.778204</td>\n",
       "      <td>2</td>\n",
       "      <td>Main switch does not on</td>\n",
       "    </tr>\n",
       "    <tr>\n",
       "      <th>4</th>\n",
       "      <td>-0.644625</td>\n",
       "      <td>0.339294</td>\n",
       "      <td>-0.156296</td>\n",
       "      <td>0.104930</td>\n",
       "      <td>-0.561463</td>\n",
       "      <td>0.795074</td>\n",
       "      <td>-0.795074</td>\n",
       "      <td>1</td>\n",
       "      <td>Forgot mobile app password</td>\n",
       "    </tr>\n",
       "    <tr>\n",
       "      <th>5</th>\n",
       "      <td>-0.631441</td>\n",
       "      <td>1.171694</td>\n",
       "      <td>1.198266</td>\n",
       "      <td>1.397818</td>\n",
       "      <td>-0.393024</td>\n",
       "      <td>0.822449</td>\n",
       "      <td>-0.822449</td>\n",
       "      <td>0</td>\n",
       "      <td>AC stops abruptly</td>\n",
       "    </tr>\n",
       "    <tr>\n",
       "      <th>6</th>\n",
       "      <td>-0.862176</td>\n",
       "      <td>2.108144</td>\n",
       "      <td>1.580322</td>\n",
       "      <td>-1.015573</td>\n",
       "      <td>-0.280732</td>\n",
       "      <td>0.822449</td>\n",
       "      <td>-0.822449</td>\n",
       "      <td>0</td>\n",
       "      <td>App hangs while entring commands</td>\n",
       "    </tr>\n",
       "    <tr>\n",
       "      <th>7</th>\n",
       "      <td>0.146467</td>\n",
       "      <td>-0.805257</td>\n",
       "      <td>-0.538351</td>\n",
       "      <td>-0.929380</td>\n",
       "      <td>-0.561463</td>\n",
       "      <td>0.685572</td>\n",
       "      <td>-0.685572</td>\n",
       "      <td>1</td>\n",
       "      <td>App takes a long time to initialize</td>\n",
       "    </tr>\n",
       "    <tr>\n",
       "      <th>8</th>\n",
       "      <td>1.174886</td>\n",
       "      <td>-1.013357</td>\n",
       "      <td>-1.007238</td>\n",
       "      <td>0.622085</td>\n",
       "      <td>-0.561463</td>\n",
       "      <td>-0.272563</td>\n",
       "      <td>0.272563</td>\n",
       "      <td>4</td>\n",
       "      <td>Unable to connect the App to the device</td>\n",
       "    </tr>\n",
       "    <tr>\n",
       "      <th>9</th>\n",
       "      <td>-0.796251</td>\n",
       "      <td>1.379794</td>\n",
       "      <td>1.337195</td>\n",
       "      <td>0.018738</td>\n",
       "      <td>-0.505317</td>\n",
       "      <td>0.685572</td>\n",
       "      <td>-0.685572</td>\n",
       "      <td>0</td>\n",
       "      <td>Reinstalling the app hangs the phone</td>\n",
       "    </tr>\n",
       "  </tbody>\n",
       "</table>\n",
       "</div>"
      ],
      "text/plain": [
       "   no_of_cases  Avg_pending_calls  Avg_resol_time  recurrence_freq  \\\n",
       "0     0.179429          -0.701207       -0.538351        -0.843188   \n",
       "1    -0.862176           0.027143        1.510857        -1.101765   \n",
       "2    -0.908323          -1.013357       -0.486253        -1.015573   \n",
       "3    -0.921508           0.027143       -0.955140        -1.101765   \n",
       "4    -0.644625           0.339294       -0.156296         0.104930   \n",
       "5    -0.631441           1.171694        1.198266         1.397818   \n",
       "6    -0.862176           2.108144        1.580322        -1.015573   \n",
       "7     0.146467          -0.805257       -0.538351        -0.929380   \n",
       "8     1.174886          -1.013357       -1.007238         0.622085   \n",
       "9    -0.796251           1.379794        1.337195         0.018738   \n",
       "\n",
       "   Replace_percent  In_warranty_percent  Post_warranty_percent  group  \\\n",
       "0        -0.561463             0.138067              -0.138067      1   \n",
       "1         2.245854            -1.778204               1.778204      2   \n",
       "2         0.561463             0.548696              -0.548696      1   \n",
       "3         3.368781            -1.778204               1.778204      2   \n",
       "4        -0.561463             0.795074              -0.795074      1   \n",
       "5        -0.393024             0.822449              -0.822449      0   \n",
       "6        -0.280732             0.822449              -0.822449      0   \n",
       "7        -0.561463             0.685572              -0.685572      1   \n",
       "8        -0.561463            -0.272563               0.272563      4   \n",
       "9        -0.505317             0.685572              -0.685572      0   \n",
       "\n",
       "                              problem_type  \n",
       "0          Temperature control not working  \n",
       "1         power chord does not tightly fit  \n",
       "2                    Fan swing not working  \n",
       "3                  Main switch does not on  \n",
       "4               Forgot mobile app password  \n",
       "5                        AC stops abruptly  \n",
       "6         App hangs while entring commands  \n",
       "7      App takes a long time to initialize  \n",
       "8  Unable to connect the App to the device  \n",
       "9     Reinstalling the app hangs the phone  "
      ]
     },
     "execution_count": 88,
     "metadata": {},
     "output_type": "execute_result"
    }
   ],
   "source": [
    "tech_sup.head(10)"
   ]
  },
  {
   "cell_type": "code",
   "execution_count": 90,
   "metadata": {},
   "outputs": [
    {
     "data": {
      "text/plain": [
       "array([[<AxesSubplot:title={'center':'Avg_pending_calls'}, xlabel='[group]'>,\n",
       "        <AxesSubplot:title={'center':'Avg_resol_time'}, xlabel='[group]'>,\n",
       "        <AxesSubplot:title={'center':'In_warranty_percent'}, xlabel='[group]'>],\n",
       "       [<AxesSubplot:title={'center':'Post_warranty_percent'}, xlabel='[group]'>,\n",
       "        <AxesSubplot:title={'center':'Replace_percent'}, xlabel='[group]'>,\n",
       "        <AxesSubplot:title={'center':'no_of_cases'}, xlabel='[group]'>],\n",
       "       [<AxesSubplot:title={'center':'recurrence_freq'}, xlabel='[group]'>,\n",
       "        <AxesSubplot:>, <AxesSubplot:>]], dtype=object)"
      ]
     },
     "execution_count": 90,
     "metadata": {},
     "output_type": "execute_result"
    },
    {
     "data": {
      "image/png": "[encoded data removed]",
      "text/plain": [
       "<Figure size 720x720 with 9 Axes>"
      ]
     },
     "metadata": {},
     "output_type": "display_data"
    }
   ],
   "source": [
    "tech_sup.boxplot(by='group', figsize=(10,10))"
   ]
  },
  {
   "cell_type": "code",
   "execution_count": null,
   "metadata": {},
   "outputs": [],
   "source": []
  }
 ],
 "metadata": {
  "kernelspec": {
   "display_name": "Python 3",
   "language": "python",
   "name": "python3"
  },
  "language_info": {
   "codemirror_mode": {
    "name": "ipython",
    "version": 3
   },
   "file_extension": ".py",
   "mimetype": "text/x-python",
   "name": "python",
   "nbconvert_exporter": "python",
   "pygments_lexer": "ipython3",
   "version": "3.8.5"
  }
 },
 "nbformat": 4,
 "nbformat_minor": 4
}
