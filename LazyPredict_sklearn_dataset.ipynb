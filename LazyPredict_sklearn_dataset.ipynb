{
 "cells": [
  {
   "cell_type": "code",
   "execution_count": null,
   "metadata": {},
   "outputs": [],
   "source": [
    "pip install lazypredict"
   ]
  },
  {
   "cell_type": "code",
   "execution_count": 37,
   "metadata": {},
   "outputs": [],
   "source": [
    "from sklearn.model_selection import train_test_split\n",
    "from sklearn.datasets import load_boston"
   ]
  },
  {
   "cell_type": "code",
   "execution_count": 38,
   "metadata": {},
   "outputs": [],
   "source": [
    "from lazypredict.Supervised import LazyRegressor"
   ]
  },
  {
   "cell_type": "code",
   "execution_count": 39,
   "metadata": {},
   "outputs": [],
   "source": [
    "house_price=load_boston()"
   ]
  },
  {
   "cell_type": "code",
   "execution_count": 51,
   "metadata": {},
   "outputs": [
    {
     "data": {
      "text/plain": [
       "array([[6.3200e-03, 1.8000e+01, 2.3100e+00, ..., 1.5300e+01, 3.9690e+02,\n",
       "        4.9800e+00],\n",
       "       [2.7310e-02, 0.0000e+00, 7.0700e+00, ..., 1.7800e+01, 3.9690e+02,\n",
       "        9.1400e+00],\n",
       "       [2.7290e-02, 0.0000e+00, 7.0700e+00, ..., 1.7800e+01, 3.9283e+02,\n",
       "        4.0300e+00],\n",
       "       ...,\n",
       "       [6.0760e-02, 0.0000e+00, 1.1930e+01, ..., 2.1000e+01, 3.9690e+02,\n",
       "        5.6400e+00],\n",
       "       [1.0959e-01, 0.0000e+00, 1.1930e+01, ..., 2.1000e+01, 3.9345e+02,\n",
       "        6.4800e+00],\n",
       "       [4.7410e-02, 0.0000e+00, 1.1930e+01, ..., 2.1000e+01, 3.9690e+02,\n",
       "        7.8800e+00]])"
      ]
     },
     "execution_count": 51,
     "metadata": {},
     "output_type": "execute_result"
    }
   ],
   "source": [
    "X_hse_prc"
   ]
  },
  {
   "cell_type": "code",
   "execution_count": 47,
   "metadata": {},
   "outputs": [],
   "source": [
    "X_hse_prc=house_price.data\n",
    "y_hse_prc=house_price.target\n",
    "X_hse_prc_train,X_hse_prc_test,y_hse_prc_train,y_hse_prc_test=train_test_split(X_hse_prc,y_hse_prc, test_size=.30, random_state=145)"
   ]
  },
  {
   "cell_type": "code",
   "execution_count": 50,
   "metadata": {},
   "outputs": [
    {
     "name": "stderr",
     "output_type": "stream",
     "text": [
      "100%|██████████| 42/42 [00:03<00:00, 10.52it/s]"
     ]
    },
    {
     "name": "stdout",
     "output_type": "stream",
     "text": [
      "                               Adjusted R-Squared  R-Squared  RMSE  Time Taken\n",
      "Model                                                                         \n",
      "XGBRegressor                                 0.90       0.91  3.22        0.17\n",
      "GradientBoostingRegressor                    0.89       0.90  3.28        0.14\n",
      "ExtraTreesRegressor                          0.88       0.89  3.46        0.30\n",
      "BaggingRegressor                             0.87       0.88  3.71        0.06\n",
      "AdaBoostRegressor                            0.86       0.87  3.76        0.17\n",
      "HistGradientBoostingRegressor                0.85       0.86  3.89        0.83\n",
      "RandomForestRegressor                        0.85       0.86  3.91        0.42\n",
      "LGBMRegressor                                0.85       0.86  3.92        0.10\n",
      "ExtraTreeRegressor                           0.74       0.77  5.11        0.02\n",
      "PoissonRegressor                             0.73       0.75  5.27        0.02\n",
      "DecisionTreeRegressor                        0.68       0.70  5.74        0.02\n",
      "LassoLarsCV                                  0.68       0.70  5.75        0.05\n",
      "Lars                                         0.68       0.70  5.75        0.02\n",
      "TransformedTargetRegressor                   0.68       0.70  5.75        0.01\n",
      "LinearRegression                             0.68       0.70  5.75        0.01\n",
      "LassoLarsIC                                  0.68       0.70  5.75        0.02\n",
      "LassoCV                                      0.68       0.70  5.75        0.12\n",
      "RidgeCV                                      0.68       0.70  5.75        0.01\n",
      "Ridge                                        0.68       0.70  5.75        0.01\n",
      "ElasticNetCV                                 0.67       0.70  5.76        0.12\n",
      "SGDRegressor                                 0.67       0.70  5.77        0.02\n",
      "BayesianRidge                                0.67       0.70  5.78        0.01\n",
      "KNeighborsRegressor                          0.67       0.70  5.83        0.02\n",
      "LarsCV                                       0.66       0.69  5.88        0.05\n",
      "HuberRegressor                               0.62       0.65  6.21        0.09\n",
      "OrthogonalMatchingPursuitCV                  0.62       0.65  6.26        0.02\n",
      "MLPRegressor                                 0.62       0.65  6.27        0.73\n",
      "LinearSVR                                    0.60       0.64  6.37        0.02\n",
      "PassiveAggressiveRegressor                   0.58       0.61  6.57        0.02\n",
      "Lasso                                        0.56       0.60  6.72        0.02\n",
      "ElasticNet                                   0.52       0.57  6.97        0.02\n",
      "GeneralizedLinearRegressor                   0.51       0.55  7.05        0.02\n",
      "TweedieRegressor                             0.51       0.55  7.05        0.02\n",
      "GammaRegressor                               0.51       0.55  7.11        0.02\n",
      "RANSACRegressor                              0.50       0.54  7.18        0.10\n",
      "SVR                                          0.49       0.53  7.24        0.02\n",
      "NuSVR                                        0.49       0.53  7.24        0.02\n",
      "OrthogonalMatchingPursuit                    0.47       0.52  7.34        0.02\n",
      "GaussianProcessRegressor                     0.11       0.19  9.54        0.03\n",
      "DummyRegressor                              -0.17      -0.07 10.92        0.01\n",
      "LassoLars                                   -0.17      -0.07 10.92        0.02\n",
      "KernelRidge                                 -4.61      -4.13 23.94        0.02\n"
     ]
    },
    {
     "name": "stderr",
     "output_type": "stream",
     "text": [
      "\n"
     ]
    }
   ],
   "source": [
    "model_hse_prc = LazyRegressor(verbose=0,ignore_warnings=True, custom_metric=None)\n",
    "models,predictions = model_hse_prc.fit(X_hse_prc_train, X_hse_prc_test, y_hse_prc_train, y_hse_prc_test)\n",
    "\n",
    "print(models)"
   ]
  },
  {
   "cell_type": "code",
   "execution_count": null,
   "metadata": {},
   "outputs": [],
   "source": []
  },
  {
   "cell_type": "code",
   "execution_count": null,
   "metadata": {},
   "outputs": [],
   "source": []
  },
  {
   "cell_type": "code",
   "execution_count": 8,
   "metadata": {},
   "outputs": [],
   "source": [
    "iris=load_iris()"
   ]
  },
  {
   "cell_type": "code",
   "execution_count": 26,
   "metadata": {},
   "outputs": [],
   "source": [
    "X_iris=iris.data\n",
    "y_iris=iris.target\n",
    "X_iris_train, X_iris_test, y_iris_train, y_iris_test=train_test_split(X_iris,y_iris, test_size=.25,random_state =145)"
   ]
  },
  {
   "cell_type": "code",
   "execution_count": 27,
   "metadata": {},
   "outputs": [
    {
     "name": "stderr",
     "output_type": "stream",
     "text": [
      "100%|██████████| 29/29 [00:01<00:00, 23.14it/s]"
     ]
    },
    {
     "name": "stdout",
     "output_type": "stream",
     "text": [
      "                               Accuracy  Balanced Accuracy ROC AUC  F1 Score  \\\n",
      "Model                                                                          \n",
      "LinearDiscriminantAnalysis         0.97               0.98    None      0.97   \n",
      "SVC                                0.97               0.98    None      0.97   \n",
      "QuadraticDiscriminantAnalysis      0.97               0.98    None      0.97   \n",
      "NuSVC                              0.97               0.98    None      0.97   \n",
      "KNeighborsClassifier               0.97               0.98    None      0.97   \n",
      "AdaBoostClassifier                 0.93               0.96    None      0.93   \n",
      "XGBClassifier                      0.93               0.96    None      0.93   \n",
      "SGDClassifier                      0.93               0.96    None      0.93   \n",
      "RandomForestClassifier             0.93               0.96    None      0.93   \n",
      "PassiveAggressiveClassifier        0.93               0.96    None      0.93   \n",
      "LogisticRegression                 0.93               0.96    None      0.93   \n",
      "BaggingClassifier                  0.93               0.96    None      0.93   \n",
      "LinearSVC                          0.93               0.96    None      0.93   \n",
      "LabelSpreading                     0.93               0.96    None      0.93   \n",
      "LabelPropagation                   0.93               0.96    None      0.93   \n",
      "GaussianNB                         0.93               0.96    None      0.93   \n",
      "ExtraTreesClassifier               0.93               0.96    None      0.93   \n",
      "ExtraTreeClassifier                0.93               0.96    None      0.93   \n",
      "DecisionTreeClassifier             0.93               0.96    None      0.93   \n",
      "LGBMClassifier                     0.93               0.96    None      0.93   \n",
      "CalibratedClassifierCV             0.87               0.91    None      0.87   \n",
      "Perceptron                         0.87               0.89    None      0.87   \n",
      "NearestCentroid                    0.83               0.89    None      0.84   \n",
      "BernoulliNB                        0.70               0.80    None      0.68   \n",
      "RidgeClassifier                    0.70               0.78    None      0.70   \n",
      "RidgeClassifierCV                  0.70               0.78    None      0.70   \n",
      "DummyClassifier                    0.37               0.37    None      0.39   \n",
      "\n",
      "                               Time Taken  \n",
      "Model                                      \n",
      "LinearDiscriminantAnalysis           0.01  \n",
      "SVC                                  0.02  \n",
      "QuadraticDiscriminantAnalysis        0.02  \n",
      "NuSVC                                0.02  \n",
      "KNeighborsClassifier                 0.02  \n",
      "AdaBoostClassifier                   0.17  \n",
      "XGBClassifier                        0.06  \n",
      "SGDClassifier                        0.02  \n",
      "RandomForestClassifier               0.24  \n",
      "PassiveAggressiveClassifier          0.02  \n",
      "LogisticRegression                   0.03  \n",
      "BaggingClassifier                    0.05  \n",
      "LinearSVC                            0.02  \n",
      "LabelSpreading                       0.02  \n",
      "LabelPropagation                     0.02  \n",
      "GaussianNB                           0.02  \n",
      "ExtraTreesClassifier                 0.19  \n",
      "ExtraTreeClassifier                  0.01  \n",
      "DecisionTreeClassifier               0.02  \n",
      "LGBMClassifier                       0.08  \n",
      "CalibratedClassifierCV               0.07  \n",
      "Perceptron                           0.02  \n",
      "NearestCentroid                      0.02  \n",
      "BernoulliNB                          0.02  \n",
      "RidgeClassifier                      0.02  \n",
      "RidgeClassifierCV                    0.02  \n",
      "DummyClassifier                      0.01  \n"
     ]
    },
    {
     "name": "stderr",
     "output_type": "stream",
     "text": [
      "\n"
     ]
    }
   ],
   "source": [
    "model_iris = LazyClassifier(verbose=0,ignore_warnings=True, custom_metric=None)\n",
    "models,predictions = model_iris.fit(X_iris_train, X_iris_test, y_iris_train, y_iris_test)\n",
    "\n",
    "print(models)"
   ]
  },
  {
   "cell_type": "code",
   "execution_count": null,
   "metadata": {},
   "outputs": [],
   "source": []
  }
 ],
 "metadata": {
  "kernelspec": {
   "display_name": "Python 3",
   "language": "python",
   "name": "python3"
  },
  "language_info": {
   "codemirror_mode": {
    "name": "ipython",
    "version": 3
   },
   "file_extension": ".py",
   "mimetype": "text/x-python",
   "name": "python",
   "nbconvert_exporter": "python",
   "pygments_lexer": "ipython3",
   "version": "3.8.5"
  }
 },
 "nbformat": 4,
 "nbformat_minor": 4
}
