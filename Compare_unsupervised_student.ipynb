{
 "cells": [
  {
   "cell_type": "code",
   "execution_count": 200,
   "metadata": {},
   "outputs": [],
   "source": [
    "%matplotlib inline\n",
    "import numpy as np\n",
    "import pandas as pd\n",
    "import matplotlib.pylab as plt\n",
    "from sklearn.cluster import KMeans, AgglomerativeClustering, DBSCAN, Birch \n",
    "from scipy.cluster.hierarchy import dendrogram, cophenet, linkage, single\n",
    "from scipy.spatial.distance import pdist\n",
    "from scipy.stats import zscore\n",
    "import seaborn as sns\n",
    "import pickle"
   ]
  },
  {
   "cell_type": "code",
   "execution_count": 237,
   "metadata": {},
   "outputs": [],
   "source": [
    "stud=pd.read_csv('student.csv')"
   ]
  },
  {
   "cell_type": "code",
   "execution_count": 238,
   "metadata": {},
   "outputs": [
    {
     "name": "stdout",
     "output_type": "stream",
     "text": [
      "<class 'pandas.core.frame.DataFrame'>\n",
      "RangeIndex: 20 entries, 0 to 19\n",
      "Data columns (total 3 columns):\n",
      " #   Column   Non-Null Count  Dtype\n",
      "---  ------   --------------  -----\n",
      " 0   rollno   20 non-null     int64\n",
      " 1   maths    20 non-null     int64\n",
      " 2   science  20 non-null     int64\n",
      "dtypes: int64(3)\n",
      "memory usage: 608.0 bytes\n"
     ]
    }
   ],
   "source": [
    "stud.info()"
   ]
  },
  {
   "cell_type": "code",
   "execution_count": 239,
   "metadata": {},
   "outputs": [
    {
     "data": {
      "text/html": [
       "<div>\n",
       "<style scoped>\n",
       "    .dataframe tbody tr th:only-of-type {\n",
       "        vertical-align: middle;\n",
       "    }\n",
       "\n",
       "    .dataframe tbody tr th {\n",
       "        vertical-align: top;\n",
       "    }\n",
       "\n",
       "    .dataframe thead th {\n",
       "        text-align: right;\n",
       "    }\n",
       "</style>\n",
       "<table border=\"1\" class=\"dataframe\">\n",
       "  <thead>\n",
       "    <tr style=\"text-align: right;\">\n",
       "      <th></th>\n",
       "      <th>rollno</th>\n",
       "      <th>maths</th>\n",
       "      <th>science</th>\n",
       "    </tr>\n",
       "  </thead>\n",
       "  <tbody>\n",
       "    <tr>\n",
       "      <th>0</th>\n",
       "      <td>1</td>\n",
       "      <td>80</td>\n",
       "      <td>75</td>\n",
       "    </tr>\n",
       "    <tr>\n",
       "      <th>1</th>\n",
       "      <td>2</td>\n",
       "      <td>75</td>\n",
       "      <td>85</td>\n",
       "    </tr>\n",
       "    <tr>\n",
       "      <th>2</th>\n",
       "      <td>3</td>\n",
       "      <td>50</td>\n",
       "      <td>24</td>\n",
       "    </tr>\n",
       "    <tr>\n",
       "      <th>3</th>\n",
       "      <td>4</td>\n",
       "      <td>15</td>\n",
       "      <td>25</td>\n",
       "    </tr>\n",
       "    <tr>\n",
       "      <th>4</th>\n",
       "      <td>5</td>\n",
       "      <td>45</td>\n",
       "      <td>50</td>\n",
       "    </tr>\n",
       "  </tbody>\n",
       "</table>\n",
       "</div>"
      ],
      "text/plain": [
       "   rollno  maths  science\n",
       "0       1     80       75\n",
       "1       2     75       85\n",
       "2       3     50       24\n",
       "3       4     15       25\n",
       "4       5     45       50"
      ]
     },
     "execution_count": 239,
     "metadata": {},
     "output_type": "execute_result"
    }
   ],
   "source": [
    "stud.head()"
   ]
  },
  {
   "cell_type": "code",
   "execution_count": 240,
   "metadata": {},
   "outputs": [],
   "source": [
    "stud_no_roll=stud.drop('rollno', axis=1)"
   ]
  },
  {
   "cell_type": "code",
   "execution_count": 241,
   "metadata": {},
   "outputs": [
    {
     "data": {
      "text/html": [
       "<div>\n",
       "<style scoped>\n",
       "    .dataframe tbody tr th:only-of-type {\n",
       "        vertical-align: middle;\n",
       "    }\n",
       "\n",
       "    .dataframe tbody tr th {\n",
       "        vertical-align: top;\n",
       "    }\n",
       "\n",
       "    .dataframe thead th {\n",
       "        text-align: right;\n",
       "    }\n",
       "</style>\n",
       "<table border=\"1\" class=\"dataframe\">\n",
       "  <thead>\n",
       "    <tr style=\"text-align: right;\">\n",
       "      <th></th>\n",
       "      <th>maths</th>\n",
       "      <th>science</th>\n",
       "    </tr>\n",
       "  </thead>\n",
       "  <tbody>\n",
       "    <tr>\n",
       "      <th>0</th>\n",
       "      <td>80</td>\n",
       "      <td>75</td>\n",
       "    </tr>\n",
       "    <tr>\n",
       "      <th>1</th>\n",
       "      <td>75</td>\n",
       "      <td>85</td>\n",
       "    </tr>\n",
       "    <tr>\n",
       "      <th>2</th>\n",
       "      <td>50</td>\n",
       "      <td>24</td>\n",
       "    </tr>\n",
       "    <tr>\n",
       "      <th>3</th>\n",
       "      <td>15</td>\n",
       "      <td>25</td>\n",
       "    </tr>\n",
       "    <tr>\n",
       "      <th>4</th>\n",
       "      <td>45</td>\n",
       "      <td>50</td>\n",
       "    </tr>\n",
       "  </tbody>\n",
       "</table>\n",
       "</div>"
      ],
      "text/plain": [
       "   maths  science\n",
       "0     80       75\n",
       "1     75       85\n",
       "2     50       24\n",
       "3     15       25\n",
       "4     45       50"
      ]
     },
     "execution_count": 241,
     "metadata": {},
     "output_type": "execute_result"
    }
   ],
   "source": [
    "stud_no_roll.head()"
   ]
  },
  {
   "cell_type": "code",
   "execution_count": 242,
   "metadata": {},
   "outputs": [
    {
     "data": {
      "text/plain": [
       "<seaborn.axisgrid.PairGrid at 0x241b987cd60>"
      ]
     },
     "execution_count": 242,
     "metadata": {},
     "output_type": "execute_result"
    },
    {
     "data": {
      "image/png": "[encoded data removed]",
      "text/plain": [
       "<Figure size 360x360 with 6 Axes>"
      ]
     },
     "metadata": {
      "needs_background": "light"
     },
     "output_type": "display_data"
    }
   ],
   "source": [
    "sns.pairplot(stud_no_roll, diag_kind=\"kde\")"
   ]
  },
  {
   "cell_type": "markdown",
   "metadata": {},
   "source": [
    "# KMeans"
   ]
  },
  {
   "cell_type": "code",
   "execution_count": 243,
   "metadata": {},
   "outputs": [
    {
     "name": "stdout",
     "output_type": "stream",
     "text": [
      "[0 0 0 0 0 0 0 0 0 0 0 0 0 0 0 0 0 0 0 0]\n",
      "[1 1 0 0 0 0 0 1 0 1 1 1 0 0 0 0 0 1 0 1]\n",
      "[0 0 2 1 2 2 1 0 1 0 0 0 2 1 2 2 1 0 1 0]\n",
      "[0 0 1 2 1 1 2 0 2 3 0 0 1 2 1 1 2 0 2 3]\n"
     ]
    }
   ],
   "source": [
    "from scipy.spatial.distance import cdist\n",
    "clusters=range(1,5)\n",
    "meanDistortions=[]\n",
    "\n",
    "for k in clusters:\n",
    "    model=KMeans(n_clusters=k)\n",
    "    model.fit(stud_no_roll)\n",
    "    prediction=model.predict(stud_no_roll)\n",
    "    print(prediction)\n",
    "    meanDistortions.append(model.inertia_)#(sum(np.min(cdist(tech_sup,model.cluster_centers_))))"
   ]
  },
  {
   "cell_type": "code",
   "execution_count": 244,
   "metadata": {},
   "outputs": [
    {
     "data": {
      "text/plain": [
       "array([0, 0, 1, 2, 1, 1, 2, 0, 2, 3, 0, 0, 1, 2, 1, 1, 2, 0, 2, 3])"
      ]
     },
     "execution_count": 244,
     "metadata": {},
     "output_type": "execute_result"
    }
   ],
   "source": [
    "model.labels_"
   ]
  },
  {
   "cell_type": "code",
   "execution_count": 245,
   "metadata": {},
   "outputs": [
    {
     "data": {
      "text/plain": [
       "array([[78.5       , 80.        ],\n",
       "       [45.83333333, 38.        ],\n",
       "       [16.5       , 27.66666667],\n",
       "       [95.5       , 94.5       ]])"
      ]
     },
     "execution_count": 245,
     "metadata": {},
     "output_type": "execute_result"
    }
   ],
   "source": [
    "model.cluster_centers_"
   ]
  },
  {
   "cell_type": "code",
   "execution_count": 117,
   "metadata": {},
   "outputs": [
    {
     "data": {
      "text/plain": [
       "array([38., 37.])"
      ]
     },
     "execution_count": 117,
     "metadata": {},
     "output_type": "execute_result"
    }
   ],
   "source": [
    "model.cluster_centers_[1]"
   ]
  },
  {
   "cell_type": "code",
   "execution_count": 118,
   "metadata": {},
   "outputs": [],
   "source": [
    "df_centre=pd.DataFrame(model.cluster_centers_)"
   ]
  },
  {
   "cell_type": "code",
   "execution_count": 119,
   "metadata": {},
   "outputs": [
    {
     "data": {
      "text/plain": [
       "<seaborn.axisgrid.PairGrid at 0x241b62b4700>"
      ]
     },
     "execution_count": 119,
     "metadata": {},
     "output_type": "execute_result"
    },
    {
     "data": {
      "image/png": "[encoded data removed]",
      "text/plain": [
       "<Figure size 360x360 with 6 Axes>"
      ]
     },
     "metadata": {
      "needs_background": "light"
     },
     "output_type": "display_data"
    }
   ],
   "source": [
    "sns.pairplot(df_centre)"
   ]
  },
  {
   "cell_type": "markdown",
   "metadata": {},
   "source": [
    "# Elbow"
   ]
  },
  {
   "cell_type": "code",
   "execution_count": 246,
   "metadata": {},
   "outputs": [
    {
     "data": {
      "text/plain": [
       "Text(0.5, 1.0, 'K with Elbow')"
      ]
     },
     "execution_count": 246,
     "metadata": {},
     "output_type": "execute_result"
    },
    {
     "data": {
      "image/png": "[encoded data removed]",
      "text/plain": [
       "<Figure size 432x288 with 1 Axes>"
      ]
     },
     "metadata": {
      "needs_background": "light"
     },
     "output_type": "display_data"
    }
   ],
   "source": [
    "plt.plot(clusters, meanDistortions, 'bx-')\n",
    "plt.xlabel('k')\n",
    "plt.ylabel('Average Distortion')\n",
    "plt.title('K with Elbow')"
   ]
  },
  {
   "cell_type": "code",
   "execution_count": 37,
   "metadata": {},
   "outputs": [
    {
     "name": "stdout",
     "output_type": "stream",
     "text": [
      "Note: you may need to restart the kernel to use updated packages.Requirement already satisfied: yellowbrick in c:\\users\\smita.ezhava\\anaconda3\\lib\\site-packages (1.3.post1)\n",
      "\n",
      "Requirement already satisfied: numpy<1.20,>=1.16.0 in c:\\users\\smita.ezhava\\anaconda3\\lib\\site-packages (from yellowbrick) (1.19.2)\n",
      "Requirement already satisfied: matplotlib!=3.0.0,>=2.0.2 in c:\\users\\smita.ezhava\\anaconda3\\lib\\site-packages (from yellowbrick) (3.3.2)\n",
      "Requirement already satisfied: cycler>=0.10.0 in c:\\users\\smita.ezhava\\anaconda3\\lib\\site-packages (from yellowbrick) (0.10.0)\n",
      "Requirement already satisfied: scipy>=1.0.0 in c:\\users\\smita.ezhava\\anaconda3\\lib\\site-packages (from yellowbrick) (1.5.2)\n",
      "Requirement already satisfied: scikit-learn>=0.20 in c:\\users\\smita.ezhava\\anaconda3\\lib\\site-packages (from yellowbrick) (0.23.2)\n",
      "Requirement already satisfied: pyparsing!=2.0.4,!=2.1.2,!=2.1.6,>=2.0.3 in c:\\users\\smita.ezhava\\anaconda3\\lib\\site-packages (from matplotlib!=3.0.0,>=2.0.2->yellowbrick) (2.4.7)\n",
      "Requirement already satisfied: certifi>=2020.06.20 in c:\\users\\smita.ezhava\\anaconda3\\lib\\site-packages (from matplotlib!=3.0.0,>=2.0.2->yellowbrick) (2020.6.20)\n",
      "Requirement already satisfied: python-dateutil>=2.1 in c:\\users\\smita.ezhava\\anaconda3\\lib\\site-packages (from matplotlib!=3.0.0,>=2.0.2->yellowbrick) (2.8.1)\n",
      "Requirement already satisfied: kiwisolver>=1.0.1 in c:\\users\\smita.ezhava\\anaconda3\\lib\\site-packages (from matplotlib!=3.0.0,>=2.0.2->yellowbrick) (1.3.0)\n",
      "Requirement already satisfied: pillow>=6.2.0 in c:\\users\\smita.ezhava\\anaconda3\\lib\\site-packages (from matplotlib!=3.0.0,>=2.0.2->yellowbrick) (8.0.1)\n",
      "Requirement already satisfied: six in c:\\users\\smita.ezhava\\anaconda3\\lib\\site-packages (from cycler>=0.10.0->yellowbrick) (1.15.0)\n",
      "Requirement already satisfied: joblib>=0.11 in c:\\users\\smita.ezhava\\anaconda3\\lib\\site-packages (from scikit-learn>=0.20->yellowbrick) (0.17.0)\n",
      "Requirement already satisfied: threadpoolctl>=2.0.0 in c:\\users\\smita.ezhava\\anaconda3\\lib\\site-packages (from scikit-learn>=0.20->yellowbrick) (2.1.0)\n"
     ]
    }
   ],
   "source": [
    "pip install yellowbrick"
   ]
  },
  {
   "cell_type": "markdown",
   "metadata": {},
   "source": [
    "# Yellowbrick elbow"
   ]
  },
  {
   "cell_type": "code",
   "execution_count": 373,
   "metadata": {},
   "outputs": [
    {
     "data": {
      "text/plain": [
       "<AxesSubplot:title={'center':'Distortion Score Elbow for KMeans Clustering'}, xlabel='k', ylabel='distortion score'>"
      ]
     },
     "execution_count": 373,
     "metadata": {},
     "output_type": "execute_result"
    },
    {
     "data": {
      "image/png": "[encoded data removed]",
      "text/plain": [
       "<Figure size 432x288 with 2 Axes>"
      ]
     },
     "metadata": {},
     "output_type": "display_data"
    }
   ],
   "source": [
    "from yellowbrick.cluster import KElbowVisualizer\n",
    "visual=KElbowVisualizer(KMeans(),k=(1,5))\n",
    "visual.fit(stud_no_roll)\n",
    "visual.show(outpath='elbowplot2.png') "
   ]
  },
  {
   "cell_type": "code",
   "execution_count": 248,
   "metadata": {},
   "outputs": [
    {
     "name": "stdout",
     "output_type": "stream",
     "text": [
      "[1 1 0 2 0 0 2 1 2 1 1 1 0 2 0 0 2 1 2 1]\n"
     ]
    }
   ],
   "source": [
    "model1=KMeans(n_clusters=3)\n",
    "model1.fit(stud_no_roll)\n",
    "prediction1=model1.predict(stud_no_roll)\n",
    "print(prediction1)"
   ]
  },
  {
   "cell_type": "code",
   "execution_count": 249,
   "metadata": {},
   "outputs": [
    {
     "data": {
      "text/plain": [
       "array([1, 1, 0, 2, 0, 0, 2, 1, 2, 1, 1, 1, 0, 2, 0, 0, 2, 1, 2, 1])"
      ]
     },
     "execution_count": 249,
     "metadata": {},
     "output_type": "execute_result"
    }
   ],
   "source": [
    "model1.labels_"
   ]
  },
  {
   "cell_type": "code",
   "execution_count": 250,
   "metadata": {},
   "outputs": [],
   "source": [
    "stud_output=stud_no_roll\n",
    "stud_output['group']=model1.labels_"
   ]
  },
  {
   "cell_type": "code",
   "execution_count": 251,
   "metadata": {},
   "outputs": [
    {
     "data": {
      "text/html": [
       "<div>\n",
       "<style scoped>\n",
       "    .dataframe tbody tr th:only-of-type {\n",
       "        vertical-align: middle;\n",
       "    }\n",
       "\n",
       "    .dataframe tbody tr th {\n",
       "        vertical-align: top;\n",
       "    }\n",
       "\n",
       "    .dataframe thead th {\n",
       "        text-align: right;\n",
       "    }\n",
       "</style>\n",
       "<table border=\"1\" class=\"dataframe\">\n",
       "  <thead>\n",
       "    <tr style=\"text-align: right;\">\n",
       "      <th></th>\n",
       "      <th>maths</th>\n",
       "      <th>science</th>\n",
       "      <th>group</th>\n",
       "    </tr>\n",
       "  </thead>\n",
       "  <tbody>\n",
       "    <tr>\n",
       "      <th>0</th>\n",
       "      <td>80</td>\n",
       "      <td>75</td>\n",
       "      <td>1</td>\n",
       "    </tr>\n",
       "    <tr>\n",
       "      <th>1</th>\n",
       "      <td>75</td>\n",
       "      <td>85</td>\n",
       "      <td>1</td>\n",
       "    </tr>\n",
       "    <tr>\n",
       "      <th>2</th>\n",
       "      <td>50</td>\n",
       "      <td>24</td>\n",
       "      <td>0</td>\n",
       "    </tr>\n",
       "    <tr>\n",
       "      <th>3</th>\n",
       "      <td>15</td>\n",
       "      <td>25</td>\n",
       "      <td>2</td>\n",
       "    </tr>\n",
       "    <tr>\n",
       "      <th>4</th>\n",
       "      <td>45</td>\n",
       "      <td>50</td>\n",
       "      <td>0</td>\n",
       "    </tr>\n",
       "    <tr>\n",
       "      <th>5</th>\n",
       "      <td>43</td>\n",
       "      <td>40</td>\n",
       "      <td>0</td>\n",
       "    </tr>\n",
       "    <tr>\n",
       "      <th>6</th>\n",
       "      <td>17</td>\n",
       "      <td>20</td>\n",
       "      <td>2</td>\n",
       "    </tr>\n",
       "    <tr>\n",
       "      <th>7</th>\n",
       "      <td>82</td>\n",
       "      <td>85</td>\n",
       "      <td>1</td>\n",
       "    </tr>\n",
       "    <tr>\n",
       "      <th>8</th>\n",
       "      <td>12</td>\n",
       "      <td>38</td>\n",
       "      <td>2</td>\n",
       "    </tr>\n",
       "    <tr>\n",
       "      <th>9</th>\n",
       "      <td>98</td>\n",
       "      <td>99</td>\n",
       "      <td>1</td>\n",
       "    </tr>\n",
       "  </tbody>\n",
       "</table>\n",
       "</div>"
      ],
      "text/plain": [
       "   maths  science  group\n",
       "0     80       75      1\n",
       "1     75       85      1\n",
       "2     50       24      0\n",
       "3     15       25      2\n",
       "4     45       50      0\n",
       "5     43       40      0\n",
       "6     17       20      2\n",
       "7     82       85      1\n",
       "8     12       38      2\n",
       "9     98       99      1"
      ]
     },
     "execution_count": 251,
     "metadata": {},
     "output_type": "execute_result"
    }
   ],
   "source": [
    "stud_output.head(10)"
   ]
  },
  {
   "cell_type": "code",
   "execution_count": 252,
   "metadata": {},
   "outputs": [],
   "source": [
    "colors = np.random.rand(10)"
   ]
  },
  {
   "cell_type": "code",
   "execution_count": 253,
   "metadata": {},
   "outputs": [
    {
     "data": {
      "text/plain": [
       "array([1, 1, 0, 2, 0, 0, 2, 1, 2, 1, 1, 1, 0, 2, 0, 0, 2, 1, 2, 1])"
      ]
     },
     "execution_count": 253,
     "metadata": {},
     "output_type": "execute_result"
    }
   ],
   "source": [
    "stud_no_roll['group'].to_numpy()"
   ]
  },
  {
   "cell_type": "code",
   "execution_count": 254,
   "metadata": {},
   "outputs": [
    {
     "data": {
      "text/plain": [
       "array([82.75 , 83.625])"
      ]
     },
     "execution_count": 254,
     "metadata": {},
     "output_type": "execute_result"
    }
   ],
   "source": [
    "model1.cluster_centers_[1]"
   ]
  },
  {
   "cell_type": "code",
   "execution_count": 255,
   "metadata": {},
   "outputs": [
    {
     "data": {
      "text/plain": [
       "0     75\n",
       "1     85\n",
       "7     85\n",
       "9     99\n",
       "10    65\n",
       "11    85\n",
       "17    85\n",
       "19    90\n",
       "Name: science, dtype: int64"
      ]
     },
     "execution_count": 255,
     "metadata": {},
     "output_type": "execute_result"
    }
   ],
   "source": [
    "stud_output[stud_output['group']==1]['science']"
   ]
  },
  {
   "cell_type": "code",
   "execution_count": 256,
   "metadata": {},
   "outputs": [
    {
     "data": {
      "text/plain": [
       "<matplotlib.collections.PathCollection at 0x241bb1618e0>"
      ]
     },
     "execution_count": 256,
     "metadata": {},
     "output_type": "execute_result"
    },
    {
     "data": {
      "image/png": "[encoded data removed]",
      "text/plain": [
       "<Figure size 432x288 with 1 Axes>"
      ]
     },
     "metadata": {
      "needs_background": "light"
     },
     "output_type": "display_data"
    }
   ],
   "source": [
    "colormap = np.array(['r','g','b'])\n",
    "plt.scatter(x=stud_output['science'], y=stud_output['maths'],c=colormap[stud_output['group'].to_numpy()])\n",
    "#plt.scatter(x=stud_output[stud_output['group']==0]['science'], y=stud_output[stud_output['group']==0]['maths'], color='g')"
   ]
  },
  {
   "cell_type": "markdown",
   "metadata": {},
   "source": [
    "# Persist Model"
   ]
  },
  {
   "cell_type": "code",
   "execution_count": 35,
   "metadata": {},
   "outputs": [],
   "source": [
    "model_save=pickle.dumps(model1)"
   ]
  },
  {
   "cell_type": "code",
   "execution_count": 36,
   "metadata": {},
   "outputs": [],
   "source": [
    "model_ret=pickle.loads(model_save)"
   ]
  },
  {
   "cell_type": "code",
   "execution_count": 85,
   "metadata": {},
   "outputs": [],
   "source": [
    "a=np.array([[45,35]])"
   ]
  },
  {
   "cell_type": "code",
   "execution_count": 86,
   "metadata": {},
   "outputs": [
    {
     "data": {
      "text/plain": [
       "array([[45, 35]])"
      ]
     },
     "execution_count": 86,
     "metadata": {},
     "output_type": "execute_result"
    }
   ],
   "source": [
    "a"
   ]
  },
  {
   "cell_type": "code",
   "execution_count": 87,
   "metadata": {},
   "outputs": [
    {
     "data": {
      "text/plain": [
       "array([0])"
      ]
     },
     "execution_count": 87,
     "metadata": {},
     "output_type": "execute_result"
    }
   ],
   "source": [
    "model_ret.predict(a)"
   ]
  },
  {
   "cell_type": "markdown",
   "metadata": {},
   "source": [
    "# Hierarchical"
   ]
  },
  {
   "cell_type": "code",
   "execution_count": 305,
   "metadata": {},
   "outputs": [],
   "source": [
    "model_hier1=AgglomerativeClustering(n_clusters=4,linkage='complete', affinity='manhattan')"
   ]
  },
  {
   "cell_type": "code",
   "execution_count": 306,
   "metadata": {},
   "outputs": [
    {
     "data": {
      "text/plain": [
       "AgglomerativeClustering(affinity='manhattan', linkage='complete', n_clusters=4)"
      ]
     },
     "execution_count": 306,
     "metadata": {},
     "output_type": "execute_result"
    }
   ],
   "source": [
    "model_hier1.fit(stud_no_roll)"
   ]
  },
  {
   "cell_type": "code",
   "execution_count": 307,
   "metadata": {},
   "outputs": [
    {
     "data": {
      "text/plain": [
       "array([1, 1, 0, 2, 0, 0, 2, 1, 2, 3, 1, 1, 0, 2, 0, 0, 2, 1, 2, 3],\n",
       "      dtype=int64)"
      ]
     },
     "execution_count": 307,
     "metadata": {},
     "output_type": "execute_result"
    }
   ],
   "source": [
    "model_hier1.labels_"
   ]
  },
  {
   "cell_type": "code",
   "execution_count": 308,
   "metadata": {},
   "outputs": [],
   "source": [
    "z=linkage(stud_no_roll,'ward')"
   ]
  },
  {
   "cell_type": "code",
   "execution_count": 309,
   "metadata": {},
   "outputs": [
    {
     "data": {
      "text/plain": [
       "array([ 11.18033989,  59.1776985 ,  82.01219422,  43.02324953,\n",
       "        50.94114251,  83.6361166 ,  10.19803903,  77.4209274 ,\n",
       "        30.        ,  10.04987562,  14.14213562,  60.75360072,\n",
       "        82.80700453,  43.84062043,  48.80573737,  82.14012418,\n",
       "        11.18033989,  68.80406965,  19.84943324,  65.93178293,\n",
       "        84.85870609,  46.10856753,  55.22680509,  87.12060606,\n",
       "         7.        ,  78.6066155 ,  26.92582404,  20.39607805,\n",
       "         5.        ,  67.12674579,  85.56868586,  46.7653718 ,\n",
       "        53.54437412,  85.80209788,  10.        ,  70.84490102,\n",
       "        18.68154169,  35.07135583,  26.47640459,  17.4642492 ,\n",
       "        33.30165161,  68.8912186 ,  40.54626987,  89.05054744,\n",
       "        50.22947342,  64.20280368,   3.        ,  36.06937759,\n",
       "        26.68332813,  16.4924225 ,  31.32091953,  70.33491309,\n",
       "        31.36877428,  78.77816956,  39.10242959,  31.82766093,\n",
       "         5.38516481,  89.94442729,  13.34166406, 111.20251796,\n",
       "        75.47847375,  81.4002457 ,  32.07802986,   1.        ,\n",
       "        38.34057903,  34.49637662,   6.40312424,  92.20086767,\n",
       "        14.76482306, 101.53817016,  10.19803903,  41.08527717,\n",
       "        50.94114251,  35.17101079,  72.18725649,  37.17526059,\n",
       "        43.02324953,  26.07680962,  39.87480407,   1.        ,\n",
       "        10.04987562,  39.74921383,  53.16013544,  26.01922366,\n",
       "        62.4899992 ,  32.86335345,  59.55669568,  31.12876483,\n",
       "        80.66597796,  43.84062043,  52.48809389,  16.4924225 ,\n",
       "        32.71085447,  10.04987562,   3.        ,  31.30495168,\n",
       "        61.56297589,  21.1896201 ,  70.71774883,  91.92932068,\n",
       "        18.68154169, 113.15034247,  76.61592524,  83.87490686,\n",
       "        30.33150178,   5.83095189,  40.4103947 ,  35.28455753,\n",
       "         2.        ,  94.07443861,  18.68154169, 103.32956982,\n",
       "        84.32081594,  21.26029163,  20.22374842,  12.        ,\n",
       "        70.33491309,  90.69178574,  51.67204273,  57.6367938 ,\n",
       "        90.52623929,   3.        ,  76.223356  ,  12.08304597,\n",
       "       105.44192714,  72.24264668,  74.65922582,  37.74917218,\n",
       "        13.15294644,  34.23448554,  34.11744422,  19.31320792,\n",
       "        86.82741503,  10.        ,  96.26006441,  38.94868419,\n",
       "        31.30495168,  90.70281142, 111.95088209,  72.92461861,\n",
       "        78.65112841, 111.7273467 ,  19.10497317,  97.45768312,\n",
       "        10.29563014,  21.9317122 ,  52.01922721,  76.32823855,\n",
       "        38.09199391,  41.41255848,  75.00666637,  20.88061302,\n",
       "        63.07931515,  28.65309756,  65.19969325,  82.07923002,\n",
       "        43.61192497,  51.00980298,  82.62566187,  15.        ,\n",
       "        67.18630813,  23.53720459,  33.07567082,  26.17250466,\n",
       "        16.03121954,  28.35489376,  71.8748913 ,  28.72281323,\n",
       "        80.45495634,  39.10242959,  35.39774004,   7.07106781,\n",
       "        92.96235797,  15.26433752, 102.30835743,  10.19803903,\n",
       "        39.10242959,  53.91660227,  25.13961018,  63.26136262,\n",
       "        33.66006536,  59.55669568,  24.16609195,  68.62943975,\n",
       "        92.63908462,  18.24828759, 101.86756108,  78.6066155 ,\n",
       "         9.43398113,  88.0113629 ])"
      ]
     },
     "execution_count": 309,
     "metadata": {},
     "output_type": "execute_result"
    }
   ],
   "source": [
    "pdist(stud_no_roll)"
   ]
  },
  {
   "cell_type": "code",
   "execution_count": 310,
   "metadata": {},
   "outputs": [],
   "source": [
    "c, coph_dists=cophenet(z, pdist(stud_no_roll))"
   ]
  },
  {
   "cell_type": "code",
   "execution_count": 311,
   "metadata": {},
   "outputs": [
    {
     "data": {
      "text/plain": [
       "0.8861323846636763"
      ]
     },
     "execution_count": 311,
     "metadata": {},
     "output_type": "execute_result"
    }
   ],
   "source": [
    "c"
   ]
  },
  {
   "cell_type": "code",
   "execution_count": 312,
   "metadata": {},
   "outputs": [
    {
     "data": {
      "text/plain": [
       "array([ 24.61706725, 224.29909347, 224.29909347, 224.29909347,\n",
       "       224.29909347, 224.29909347,  24.61706725, 224.29909347,\n",
       "        38.70077519,  10.04987562,  24.61706725, 224.29909347,\n",
       "       224.29909347, 224.29909347, 224.29909347, 224.29909347,\n",
       "        24.61706725, 224.29909347,  38.70077519, 224.29909347,\n",
       "       224.29909347, 224.29909347, 224.29909347, 224.29909347,\n",
       "        15.55634919, 224.29909347,  38.70077519,  24.61706725,\n",
       "         5.        , 224.29909347, 224.29909347, 224.29909347,\n",
       "       224.29909347, 224.29909347,  15.55634919, 224.29909347,\n",
       "        38.70077519,  76.33697226,  34.90940656,  34.90940656,\n",
       "        76.33697226, 224.29909347,  76.33697226, 224.29909347,\n",
       "       224.29909347, 224.29909347,   3.        ,  76.33697226,\n",
       "        34.90940656,  34.90940656,  76.33697226, 224.29909347,\n",
       "        76.33697226, 224.29909347,  76.33697226,  76.33697226,\n",
       "         8.63133825, 224.29909347,  25.34100761, 224.29909347,\n",
       "       224.29909347, 224.29909347,  76.33697226,   1.        ,\n",
       "        76.33697226,  76.33697226,   8.63133825, 224.29909347,\n",
       "        25.34100761, 224.29909347,  14.14213562,  76.33697226,\n",
       "       224.29909347,  76.33697226, 224.29909347, 224.29909347,\n",
       "       224.29909347,  34.90940656,  76.33697226,   1.        ,\n",
       "        14.14213562,  76.33697226, 224.29909347,  76.33697226,\n",
       "       224.29909347,  76.33697226, 224.29909347,  76.33697226,\n",
       "       224.29909347, 224.29909347, 224.29909347,  34.90940656,\n",
       "        76.33697226,  14.14213562,   3.        ,  76.33697226,\n",
       "       224.29909347,  76.33697226, 224.29909347, 224.29909347,\n",
       "        25.34100761, 224.29909347, 224.29909347, 224.29909347,\n",
       "        76.33697226,   8.63133825,  76.33697226,  76.33697226,\n",
       "         2.        , 224.29909347,  25.34100761, 224.29909347,\n",
       "       224.29909347,  38.70077519,  24.61706725,  15.55634919,\n",
       "       224.29909347, 224.29909347, 224.29909347, 224.29909347,\n",
       "       224.29909347,   3.        , 224.29909347,  38.70077519,\n",
       "       224.29909347, 224.29909347, 224.29909347,  76.33697226,\n",
       "        25.34100761,  76.33697226,  76.33697226,  25.34100761,\n",
       "       224.29909347,  10.        , 224.29909347,  38.70077519,\n",
       "        38.70077519, 224.29909347, 224.29909347, 224.29909347,\n",
       "       224.29909347, 224.29909347,  38.70077519, 224.29909347,\n",
       "        10.29563014,  24.61706725, 224.29909347, 224.29909347,\n",
       "       224.29909347, 224.29909347, 224.29909347,  24.61706725,\n",
       "       224.29909347,  38.70077519, 224.29909347, 224.29909347,\n",
       "       224.29909347, 224.29909347, 224.29909347,  15.55634919,\n",
       "       224.29909347,  38.70077519,  76.33697226,  34.90940656,\n",
       "        34.90940656,  76.33697226, 224.29909347,  76.33697226,\n",
       "       224.29909347,  76.33697226,  76.33697226,   8.63133825,\n",
       "       224.29909347,  25.34100761, 224.29909347,  14.14213562,\n",
       "        76.33697226, 224.29909347,  76.33697226, 224.29909347,\n",
       "        76.33697226, 224.29909347,  76.33697226, 224.29909347,\n",
       "       224.29909347,  25.34100761, 224.29909347, 224.29909347,\n",
       "        38.70077519, 224.29909347])"
      ]
     },
     "execution_count": 312,
     "metadata": {},
     "output_type": "execute_result"
    }
   ],
   "source": [
    "coph_dists"
   ]
  },
  {
   "cell_type": "code",
   "execution_count": 313,
   "metadata": {},
   "outputs": [
    {
     "data": {
      "text/plain": [
       "{'icoord': [[5.0, 5.0, 15.0, 15.0],\n",
       "  [25.0, 25.0, 35.0, 35.0],\n",
       "  [45.0, 45.0, 55.0, 55.0],\n",
       "  [65.0, 65.0, 75.0, 75.0],\n",
       "  [50.0, 50.0, 70.0, 70.0],\n",
       "  [30.0, 30.0, 60.0, 60.0],\n",
       "  [10.0, 10.0, 45.0, 45.0],\n",
       "  [85.0, 85.0, 95.0, 95.0],\n",
       "  [105.0, 105.0, 115.0, 115.0],\n",
       "  [90.0, 90.0, 110.0, 110.0],\n",
       "  [125.0, 125.0, 135.0, 135.0],\n",
       "  [100.0, 100.0, 130.0, 130.0],\n",
       "  [145.0, 145.0, 155.0, 155.0],\n",
       "  [165.0, 165.0, 175.0, 175.0],\n",
       "  [185.0, 185.0, 195.0, 195.0],\n",
       "  [170.0, 170.0, 190.0, 190.0],\n",
       "  [150.0, 150.0, 180.0, 180.0],\n",
       "  [115.0, 115.0, 165.0, 165.0],\n",
       "  [27.5, 27.5, 140.0, 140.0]],\n",
       " 'dcoord': [[0.0, 10.295630140987, 10.295630140987, 0.0],\n",
       "  [0.0, 10.04987562112089, 10.04987562112089, 0.0],\n",
       "  [0.0, 3.0, 3.0, 0.0],\n",
       "  [0.0, 5.0, 5.0, 0.0],\n",
       "  [3.0, 15.556349186104045, 15.556349186104045, 5.0],\n",
       "  [10.04987562112089,\n",
       "   24.617067250182334,\n",
       "   24.617067250182334,\n",
       "   15.556349186104045],\n",
       "  [10.295630140987, 38.70077518603471, 38.70077518603471, 24.617067250182334],\n",
       "  [0.0, 1.0, 1.0, 0.0],\n",
       "  [0.0, 2.0, 2.0, 0.0],\n",
       "  [1.0, 8.631338250816034, 8.631338250816034, 2.0],\n",
       "  [0.0, 10.0, 10.0, 0.0],\n",
       "  [8.631338250816034, 25.341007609538075, 25.341007609538075, 10.0],\n",
       "  [0.0, 3.0, 3.0, 0.0],\n",
       "  [0.0, 1.0, 1.0, 0.0],\n",
       "  [0.0, 3.0, 3.0, 0.0],\n",
       "  [1.0, 14.142135623730947, 14.142135623730947, 3.0],\n",
       "  [3.0, 34.90940656422946, 34.90940656422946, 14.142135623730947],\n",
       "  [25.341007609538075,\n",
       "   76.33697225678613,\n",
       "   76.33697225678613,\n",
       "   34.90940656422946],\n",
       "  [38.70077518603471,\n",
       "   224.2990934741675,\n",
       "   224.2990934741675,\n",
       "   76.33697225678613]],\n",
       " 'ivl': ['9',\n",
       "  '19',\n",
       "  '0',\n",
       "  '10',\n",
       "  '7',\n",
       "  '17',\n",
       "  '1',\n",
       "  '11',\n",
       "  '3',\n",
       "  '13',\n",
       "  '6',\n",
       "  '16',\n",
       "  '8',\n",
       "  '18',\n",
       "  '2',\n",
       "  '12',\n",
       "  '4',\n",
       "  '14',\n",
       "  '5',\n",
       "  '15'],\n",
       " 'leaves': [9,\n",
       "  19,\n",
       "  0,\n",
       "  10,\n",
       "  7,\n",
       "  17,\n",
       "  1,\n",
       "  11,\n",
       "  3,\n",
       "  13,\n",
       "  6,\n",
       "  16,\n",
       "  8,\n",
       "  18,\n",
       "  2,\n",
       "  12,\n",
       "  4,\n",
       "  14,\n",
       "  5,\n",
       "  15],\n",
       " 'color_list': ['C1',\n",
       "  'C1',\n",
       "  'C1',\n",
       "  'C1',\n",
       "  'C1',\n",
       "  'C1',\n",
       "  'C1',\n",
       "  'C2',\n",
       "  'C2',\n",
       "  'C2',\n",
       "  'C2',\n",
       "  'C2',\n",
       "  'C3',\n",
       "  'C3',\n",
       "  'C3',\n",
       "  'C3',\n",
       "  'C3',\n",
       "  'C0',\n",
       "  'C0']}"
      ]
     },
     "execution_count": 313,
     "metadata": {},
     "output_type": "execute_result"
    },
    {
     "data": {
      "image/png": "[encoded data removed]",
      "text/plain": [
       "<Figure size 432x288 with 1 Axes>"
      ]
     },
     "metadata": {
      "needs_background": "light"
     },
     "output_type": "display_data"
    }
   ],
   "source": [
    "plt.xlabel('sample index')\n",
    "plt.ylabel('distance')\n",
    "dendrogram(z, leaf_rotation=90., color_threshold=40, leaf_font_size=8.)"
   ]
  },
  {
   "cell_type": "markdown",
   "metadata": {},
   "source": [
    "# DBSCAN"
   ]
  },
  {
   "cell_type": "code",
   "execution_count": 361,
   "metadata": {},
   "outputs": [],
   "source": [
    "model_scan=DBSCAN(eps=15).fit(stud_no_roll)"
   ]
  },
  {
   "cell_type": "code",
   "execution_count": 362,
   "metadata": {},
   "outputs": [
    {
     "data": {
      "text/plain": [
       "array([ 0,  0, -1,  1, -1, -1,  1,  0,  1, -1,  0,  0, -1,  1, -1, -1,  1,\n",
       "        0,  1,  0], dtype=int64)"
      ]
     },
     "execution_count": 362,
     "metadata": {},
     "output_type": "execute_result"
    }
   ],
   "source": [
    "model_scan.labels_"
   ]
  },
  {
   "cell_type": "code",
   "execution_count": 350,
   "metadata": {},
   "outputs": [],
   "source": [
    "from sklearn.neighbors import NearestNeighbors"
   ]
  },
  {
   "cell_type": "code",
   "execution_count": 351,
   "metadata": {},
   "outputs": [],
   "source": [
    "stud_no_rollgroup=stud_no_roll.drop(['group'],axis=1)"
   ]
  },
  {
   "cell_type": "code",
   "execution_count": 368,
   "metadata": {},
   "outputs": [],
   "source": [
    "neigh = NearestNeighbors(radius=15)"
   ]
  },
  {
   "cell_type": "code",
   "execution_count": 369,
   "metadata": {},
   "outputs": [],
   "source": [
    "nbrs=neigh.fit(stud_no_rollgroup)"
   ]
  },
  {
   "cell_type": "code",
   "execution_count": 370,
   "metadata": {},
   "outputs": [],
   "source": [
    "distances, indices = nbrs.kneighbors(stud_no_rollgroup)"
   ]
  },
  {
   "cell_type": "code",
   "execution_count": 374,
   "metadata": {},
   "outputs": [
    {
     "data": {
      "text/plain": [
       "array([ 1.        ,  1.        ,  1.        ,  1.        ,  2.        ,\n",
       "        2.        ,  3.        ,  3.        ,  3.        ,  3.        ,\n",
       "        3.        ,  3.        ,  5.        ,  5.        ,  9.43398113,\n",
       "       10.        , 10.        , 10.04987562, 10.04987562, 10.29563014])"
      ]
     },
     "execution_count": 374,
     "metadata": {},
     "output_type": "execute_result"
    }
   ],
   "source": [
    "distances"
   ]
  },
  {
   "cell_type": "code",
   "execution_count": 371,
   "metadata": {},
   "outputs": [
    {
     "data": {
      "text/html": [
       "<div>\n",
       "<style scoped>\n",
       "    .dataframe tbody tr th:only-of-type {\n",
       "        vertical-align: middle;\n",
       "    }\n",
       "\n",
       "    .dataframe tbody tr th {\n",
       "        vertical-align: top;\n",
       "    }\n",
       "\n",
       "    .dataframe thead th {\n",
       "        text-align: right;\n",
       "    }\n",
       "</style>\n",
       "<table border=\"1\" class=\"dataframe\">\n",
       "  <thead>\n",
       "    <tr style=\"text-align: right;\">\n",
       "      <th></th>\n",
       "      <th>maths</th>\n",
       "      <th>science</th>\n",
       "    </tr>\n",
       "  </thead>\n",
       "  <tbody>\n",
       "    <tr>\n",
       "      <th>0</th>\n",
       "      <td>80</td>\n",
       "      <td>75</td>\n",
       "    </tr>\n",
       "    <tr>\n",
       "      <th>1</th>\n",
       "      <td>75</td>\n",
       "      <td>85</td>\n",
       "    </tr>\n",
       "    <tr>\n",
       "      <th>2</th>\n",
       "      <td>50</td>\n",
       "      <td>24</td>\n",
       "    </tr>\n",
       "    <tr>\n",
       "      <th>3</th>\n",
       "      <td>15</td>\n",
       "      <td>25</td>\n",
       "    </tr>\n",
       "    <tr>\n",
       "      <th>4</th>\n",
       "      <td>45</td>\n",
       "      <td>50</td>\n",
       "    </tr>\n",
       "    <tr>\n",
       "      <th>5</th>\n",
       "      <td>43</td>\n",
       "      <td>40</td>\n",
       "    </tr>\n",
       "    <tr>\n",
       "      <th>6</th>\n",
       "      <td>17</td>\n",
       "      <td>20</td>\n",
       "    </tr>\n",
       "    <tr>\n",
       "      <th>7</th>\n",
       "      <td>82</td>\n",
       "      <td>85</td>\n",
       "    </tr>\n",
       "    <tr>\n",
       "      <th>8</th>\n",
       "      <td>12</td>\n",
       "      <td>38</td>\n",
       "    </tr>\n",
       "    <tr>\n",
       "      <th>9</th>\n",
       "      <td>98</td>\n",
       "      <td>99</td>\n",
       "    </tr>\n",
       "    <tr>\n",
       "      <th>10</th>\n",
       "      <td>79</td>\n",
       "      <td>65</td>\n",
       "    </tr>\n",
       "    <tr>\n",
       "      <th>11</th>\n",
       "      <td>70</td>\n",
       "      <td>85</td>\n",
       "    </tr>\n",
       "    <tr>\n",
       "      <th>12</th>\n",
       "      <td>47</td>\n",
       "      <td>24</td>\n",
       "    </tr>\n",
       "    <tr>\n",
       "      <th>13</th>\n",
       "      <td>14</td>\n",
       "      <td>25</td>\n",
       "    </tr>\n",
       "    <tr>\n",
       "      <th>14</th>\n",
       "      <td>44</td>\n",
       "      <td>50</td>\n",
       "    </tr>\n",
       "    <tr>\n",
       "      <th>15</th>\n",
       "      <td>46</td>\n",
       "      <td>40</td>\n",
       "    </tr>\n",
       "    <tr>\n",
       "      <th>16</th>\n",
       "      <td>19</td>\n",
       "      <td>20</td>\n",
       "    </tr>\n",
       "    <tr>\n",
       "      <th>17</th>\n",
       "      <td>85</td>\n",
       "      <td>85</td>\n",
       "    </tr>\n",
       "    <tr>\n",
       "      <th>18</th>\n",
       "      <td>22</td>\n",
       "      <td>38</td>\n",
       "    </tr>\n",
       "    <tr>\n",
       "      <th>19</th>\n",
       "      <td>93</td>\n",
       "      <td>90</td>\n",
       "    </tr>\n",
       "  </tbody>\n",
       "</table>\n",
       "</div>"
      ],
      "text/plain": [
       "    maths  science\n",
       "0      80       75\n",
       "1      75       85\n",
       "2      50       24\n",
       "3      15       25\n",
       "4      45       50\n",
       "5      43       40\n",
       "6      17       20\n",
       "7      82       85\n",
       "8      12       38\n",
       "9      98       99\n",
       "10     79       65\n",
       "11     70       85\n",
       "12     47       24\n",
       "13     14       25\n",
       "14     44       50\n",
       "15     46       40\n",
       "16     19       20\n",
       "17     85       85\n",
       "18     22       38\n",
       "19     93       90"
      ]
     },
     "execution_count": 371,
     "metadata": {},
     "output_type": "execute_result"
    }
   ],
   "source": [
    "stud_no_rollgroup"
   ]
  },
  {
   "cell_type": "code",
   "execution_count": 372,
   "metadata": {},
   "outputs": [
    {
     "data": {
      "image/png": "[encoded data removed]",
      "text/plain": [
       "<Figure size 1440x720 with 1 Axes>"
      ]
     },
     "metadata": {
      "needs_background": "light"
     },
     "output_type": "display_data"
    }
   ],
   "source": [
    "# Plotting K-distance Graph\n",
    "distances = np.sort(distances, axis=0)\n",
    "distances = distances[:,1]\n",
    "plt.figure(figsize=(20,10))\n",
    "plt.plot(distances)\n",
    "plt.title('K-distance Graph',fontsize=20)\n",
    "plt.xlabel('Data Points sorted by distance',fontsize=14)\n",
    "plt.ylabel('Epsilon',fontsize=14)\n",
    "plt.show()"
   ]
  },
  {
   "cell_type": "code",
   "execution_count": null,
   "metadata": {},
   "outputs": [],
   "source": []
  },
  {
   "cell_type": "code",
   "execution_count": null,
   "metadata": {},
   "outputs": [],
   "source": []
  }
 ],
 "metadata": {
  "kernelspec": {
   "display_name": "Python 3",
   "language": "python",
   "name": "python3"
  },
  "language_info": {
   "codemirror_mode": {
    "name": "ipython",
    "version": 3
   },
   "file_extension": ".py",
   "mimetype": "text/x-python",
   "name": "python",
   "nbconvert_exporter": "python",
   "pygments_lexer": "ipython3",
   "version": "3.8.5"
  }
 },
 "nbformat": 4,
 "nbformat_minor": 4
}
